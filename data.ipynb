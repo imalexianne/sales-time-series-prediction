version https://git-lfs.github.com/spec/v1
oid sha256:c8472c5a020fe9d5db00a92b1c676450b4296ff20b358eb9158abc0867fd8d7c
size 190290477
